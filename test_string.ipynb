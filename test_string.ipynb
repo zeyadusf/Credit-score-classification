{
 "cells": [
  {
   "cell_type": "code",
   "execution_count": 1,
   "metadata": {},
   "outputs": [],
   "source": [
    "import string\n",
    "\n",
    "import pandas  as pd\n",
    "import numpy as np\n",
    "s = '15 Years and 11 Months'"
   ]
  },
  {
   "cell_type": "code",
   "execution_count": 2,
   "metadata": {},
   "outputs": [
    {
     "name": "stderr",
     "output_type": "stream",
     "text": [
      "C:\\Users\\hp\\AppData\\Local\\Temp\\ipykernel_2332\\92132454.py:1: DtypeWarning: Columns (26) have mixed types. Specify dtype option on import or set low_memory=False.\n",
      "  data= pd.read_csv('train.csv')\n"
     ]
    }
   ],
   "source": [
    "data= pd.read_csv('train.csv')"
   ]
  },
  {
   "cell_type": "code",
   "execution_count": 7,
   "metadata": {},
   "outputs": [
    {
     "data": {
      "text/plain": [
       "['15', 'Years', 'and', '11', 'Months']"
      ]
     },
     "execution_count": 7,
     "metadata": {},
     "output_type": "execute_result"
    }
   ],
   "source": [
    "ls=s.split(' ')\n",
    "ls\n"
   ]
  },
  {
   "cell_type": "code",
   "execution_count": null,
   "metadata": {},
   "outputs": [],
   "source": [
    "df=data"
   ]
  },
  {
   "cell_type": "code",
   "execution_count": 15,
   "metadata": {},
   "outputs": [],
   "source": [
    "year = int(ls[0])"
   ]
  },
  {
   "cell_type": "code",
   "execution_count": 19,
   "metadata": {},
   "outputs": [
    {
     "data": {
      "text/plain": [
       "11"
      ]
     },
     "execution_count": 19,
     "metadata": {},
     "output_type": "execute_result"
    }
   ],
   "source": [
    "month = int(ls[3])\n",
    "month\n"
   ]
  },
  {
   "cell_type": "code",
   "execution_count": 20,
   "metadata": {},
   "outputs": [
    {
     "data": {
      "text/plain": [
       "12"
      ]
     },
     "execution_count": 20,
     "metadata": {},
     "output_type": "execute_result"
    }
   ],
   "source": [
    "month+=1\n",
    "\n",
    "month\n"
   ]
  },
  {
   "cell_type": "code",
   "execution_count": 22,
   "metadata": {},
   "outputs": [],
   "source": [
    "# case in middle and month = 12 \n",
    "# check if wrong or not\n",
    "if month == 12 :\n",
    "    month =0\n",
    "    year+=1\n",
    "else :\n",
    "    month +=1\n",
    "    year = year"
   ]
  },
  {
   "cell_type": "code",
   "execution_count": 24,
   "metadata": {},
   "outputs": [
    {
     "data": {
      "text/plain": [
       "['17', 'Years', 'and', '0', 'Months']"
      ]
     },
     "execution_count": 24,
     "metadata": {},
     "output_type": "execute_result"
    }
   ],
   "source": [
    "newlist = [15 ,'Years' ,'and' ,11 ,'Months']\n",
    "newlist[0]=str(year)\n",
    "newlist[3]=str(month)\n",
    "newlist\n"
   ]
  },
  {
   "cell_type": "code",
   "execution_count": 30,
   "metadata": {},
   "outputs": [],
   "source": [
    "realValue=' '.join(newlist)"
   ]
  },
  {
   "cell_type": "code",
   "execution_count": 31,
   "metadata": {},
   "outputs": [
    {
     "data": {
      "text/plain": [
       "'17 Years and 0 Months'"
      ]
     },
     "execution_count": 31,
     "metadata": {},
     "output_type": "execute_result"
    }
   ],
   "source": [
    "realValue\n"
   ]
  },
  {
   "cell_type": "code",
   "execution_count": null,
   "metadata": {},
   "outputs": [],
   "source": [
    "# == ==\n",
    "# # if supportValue[0] == np.NaN  :\n",
    "# #     np.nan_to_num(supportValue[0],copy=False,nan=0)\n",
    "# # if supportValue[3] == np.NaN:\n",
    "# #     np.nan_to_num(supportValue[3],copy=False,nan=0)\n"
   ]
  },
  {
   "cell_type": "code",
   "execution_count": null,
   "metadata": {},
   "outputs": [],
   "source": [
    "ids=[]\n",
    "User_ids=[]\n",
    "df_train=[]\n",
    "# --------------------------\n",
    "# start = 0 and 1=nan and 2=nan ... \n",
    "\n",
    "realHistAge_list = [15, 'Years', 'and', 11, 'Months']\n",
    "\n",
    "for id ,uid in zip(ids,User_ids) :\n",
    "    steps_month=0\n",
    "    valus_credit_hist_age = df_train[df_train['Customer_ID']== id]['Credit_History_Age'].values\n",
    "\n",
    "    # position of null \n",
    "    indxNaN = valus_credit_hist_age.tolist().index(np.nan)\n",
    "\n",
    "    # support value \n",
    "    # case 1 front or any position in normal \n",
    "    if indxNaN == 0 :\n",
    "        supportIndx = 1\n",
    "    else :\n",
    "        supportIndx = indxNaN - 1 \n",
    "    \n",
    "    # case 2 if next or prev position is nan \n",
    "    if valus_credit_hist_age[supportIndx] == np.nan:\n",
    "        for i in valus_credit_hist_age :\n",
    "            if i == np.nan:\n",
    "                supportIndx+=1\n",
    "                steps_month+=1\n",
    "            else: \n",
    "                break\n",
    "\n",
    "    # processing new value\n",
    "        # convert to list and int\n",
    "    supportValue = str(valus_credit_hist_age[supportIndx]).split(' ')\n",
    "    year = int(supportValue[0])\n",
    "    month = int(supportValue[3])\n",
    "    newMonth = 0\n",
    "    newYear = 0\n",
    "\n",
    "    # case 1 nan in front or any position in normal\n",
    "        # front in normal\n",
    "    if indxNaN == 0 and steps_month == 0:\n",
    "        newMonth = month-1\n",
    "    \n",
    "    elif (indxNaN > 0)  and (steps_month == 0):\n",
    "        newMonth =month+ 1\n",
    "    if steps_month > 0 :\n",
    "        if (indxNaN == 0) and ((month-steps_month) >= 0 ):\n",
    "            newMonth = month- steps_month\n",
    "        elif (indxNaN == 0) and ((month-steps_month) < 0):\n",
    "            newMonth = 12 + (month-steps_month) # 12 + -3 = 9\n",
    "\n",
    "    # update year \n",
    "    if ((indxNaN == 0) and (steps_month == 0) and (month == 0)) or ((indxNaN == 0) and ((month-steps_month) < 0)):\n",
    "        newYear=year-1\n",
    "    elif (indxNaN > 0) and (steps_month == 0) and (month == 11):\n",
    "        newYear =year + 1\n",
    "        newMonth =0\n",
    "    elif (indxNaN > 0) and (steps_month == 0) and (month < 11) and (month > 0):\n",
    "        newYear =year\n",
    "\n",
    "    # # case 1: \n",
    "    # if indxNaN == 0 :\n",
    "    \n",
    "    #     if steps_month == 0:\n",
    "    #         month -= 1\n",
    "    #         year = year\n",
    "    #     else :\n",
    "    #         month -= steps_month\n",
    "    #         year = year\n",
    "        \n",
    "    #     if month <= 0:\n",
    "    #         month = 11\n",
    "    #         year -= 1\n",
    "\n",
    "    # # case 2: \n",
    "    # else:\n",
    "    #     if month == 11:\n",
    "    #         month = 0\n",
    "    #         year += 1\n",
    "    #     else:\n",
    "    #         month += 1\n",
    "    #         year = year\n",
    "        \n",
    "\n",
    "        # fill new month and year in list and create new string \n",
    "    realHistAge_list[0] = str(year)\n",
    "    realHistAge_list[3] = str(newMonth)\n",
    "\n",
    "    realHistAge_Value = ' '.join(realHistAge_list)\n",
    "    # fill new value\n",
    "\n",
    "    df_train.loc[(df_train['Customer_ID'] == id) & (\n",
    "        (df_train['Credit_History_Age'].isna())) & (df_train['ID'] == uid), ['Credit_History_Age']] =realHistAge_Value"
   ]
  },
  {
   "cell_type": "markdown",
   "metadata": {},
   "source": [
    "<hr>"
   ]
  },
  {
   "cell_type": "code",
   "execution_count": 3,
   "metadata": {},
   "outputs": [
    {
     "name": "stderr",
     "output_type": "stream",
     "text": [
      "C:\\Users\\hp\\AppData\\Local\\Temp\\ipykernel_2332\\605600370.py:1: DtypeWarning: Columns (26) have mixed types. Specify dtype option on import or set low_memory=False.\n",
      "  df_train= pd.read_csv('train.csv')\n"
     ]
    }
   ],
   "source": [
    "df_train= pd.read_csv('train.csv')"
   ]
  },
  {
   "cell_type": "code",
   "execution_count": 5,
   "metadata": {},
   "outputs": [],
   "source": [
    "myNANvalue='0 Years and 0 Months'\n",
    "\n",
    "realHistAge_list = [15, 'Years', 'and', 11, 'Months']\n",
    "\n"
   ]
  },
  {
   "cell_type": "code",
   "execution_count": 6,
   "metadata": {},
   "outputs": [],
   "source": [
    "df_train['Credit_History_Age'].fillna(myNANvalue,inplace=True)\n"
   ]
  },
  {
   "cell_type": "code",
   "execution_count": 7,
   "metadata": {},
   "outputs": [],
   "source": [
    "Customer_IDs = df_train[df_train['Credit_History_Age']==myNANvalue]['Customer_ID']\n",
    "User_IDs = df_train[df_train['Credit_History_Age']==myNANvalue]['ID']\n"
   ]
  },
  {
   "cell_type": "code",
   "execution_count": null,
   "metadata": {},
   "outputs": [],
   "source": []
  },
  {
   "cell_type": "code",
   "execution_count": 10,
   "metadata": {},
   "outputs": [
    {
     "ename": "TypeError",
     "evalue": "can only concatenate str (not \"int\") to str",
     "output_type": "error",
     "traceback": [
      "\u001b[1;31m---------------------------------------------------------------------------\u001b[0m",
      "\u001b[1;31mTypeError\u001b[0m                                 Traceback (most recent call last)",
      "Cell \u001b[1;32mIn[10], line 67\u001b[0m\n\u001b[0;32m     61\u001b[0m     \u001b[39m# fill new value\u001b[39;00m\n\u001b[0;32m     63\u001b[0m     df_train\u001b[39m.\u001b[39mloc[(df_train[\u001b[39m'\u001b[39m\u001b[39mCustomer_ID\u001b[39m\u001b[39m'\u001b[39m] \u001b[39m==\u001b[39m \u001b[39mid\u001b[39m) \u001b[39m&\u001b[39m (\n\u001b[0;32m     64\u001b[0m         (df_train[\u001b[39m'\u001b[39m\u001b[39mCredit_History_Age\u001b[39m\u001b[39m'\u001b[39m]\u001b[39m.\u001b[39misna()) \u001b[39m&\u001b[39m (df_train[\u001b[39m'\u001b[39m\u001b[39mID\u001b[39m\u001b[39m'\u001b[39m] \u001b[39m==\u001b[39m uid)), [\u001b[39m'\u001b[39m\u001b[39mCredit_History_Age\u001b[39m\u001b[39m'\u001b[39m]] \u001b[39m=\u001b[39m realHistAge_Value\n\u001b[1;32m---> 67\u001b[0m df_train[df_train[\u001b[39m'\u001b[39;49m\u001b[39mCredit_History_Age\u001b[39;49m\u001b[39m'\u001b[39;49m]\u001b[39m==\u001b[39;49mmyNANvalue]\u001b[39m.\u001b[39;49msum()\n",
      "File \u001b[1;32mc:\\Users\\hp\\AppData\\Local\\Programs\\Python\\Python310\\lib\\site-packages\\pandas\\core\\generic.py:11512\u001b[0m, in \u001b[0;36mNDFrame._add_numeric_operations.<locals>.sum\u001b[1;34m(self, axis, skipna, numeric_only, min_count, **kwargs)\u001b[0m\n\u001b[0;32m  11493\u001b[0m \u001b[39m@doc\u001b[39m(  \u001b[39m# type: ignore[misc]\u001b[39;00m\n\u001b[0;32m  11494\u001b[0m     _num_doc,\n\u001b[0;32m  11495\u001b[0m     desc\u001b[39m=\u001b[39m\u001b[39m\"\u001b[39m\u001b[39mReturn the sum of the values over the requested axis.\u001b[39m\u001b[39m\\n\u001b[39;00m\u001b[39m\\n\u001b[39;00m\u001b[39m\"\u001b[39m\n\u001b[1;32m   (...)\u001b[0m\n\u001b[0;32m  11510\u001b[0m     \u001b[39m*\u001b[39m\u001b[39m*\u001b[39mkwargs,\n\u001b[0;32m  11511\u001b[0m ):\n\u001b[1;32m> 11512\u001b[0m     \u001b[39mreturn\u001b[39;00m NDFrame\u001b[39m.\u001b[39msum(\u001b[39mself\u001b[39m, axis, skipna, numeric_only, min_count, \u001b[39m*\u001b[39m\u001b[39m*\u001b[39mkwargs)\n",
      "File \u001b[1;32mc:\\Users\\hp\\AppData\\Local\\Programs\\Python\\Python310\\lib\\site-packages\\pandas\\core\\generic.py:11280\u001b[0m, in \u001b[0;36mNDFrame.sum\u001b[1;34m(self, axis, skipna, numeric_only, min_count, **kwargs)\u001b[0m\n\u001b[0;32m  11272\u001b[0m \u001b[39mdef\u001b[39;00m \u001b[39msum\u001b[39m(\n\u001b[0;32m  11273\u001b[0m     \u001b[39mself\u001b[39m,\n\u001b[0;32m  11274\u001b[0m     axis: Axis \u001b[39m|\u001b[39m \u001b[39mNone\u001b[39;00m \u001b[39m=\u001b[39m \u001b[39mNone\u001b[39;00m,\n\u001b[1;32m   (...)\u001b[0m\n\u001b[0;32m  11278\u001b[0m     \u001b[39m*\u001b[39m\u001b[39m*\u001b[39mkwargs,\n\u001b[0;32m  11279\u001b[0m ):\n\u001b[1;32m> 11280\u001b[0m     \u001b[39mreturn\u001b[39;00m \u001b[39mself\u001b[39m\u001b[39m.\u001b[39m_min_count_stat_function(\n\u001b[0;32m  11281\u001b[0m         \u001b[39m\"\u001b[39m\u001b[39msum\u001b[39m\u001b[39m\"\u001b[39m, nanops\u001b[39m.\u001b[39mnansum, axis, skipna, numeric_only, min_count, \u001b[39m*\u001b[39m\u001b[39m*\u001b[39mkwargs\n\u001b[0;32m  11282\u001b[0m     )\n",
      "File \u001b[1;32mc:\\Users\\hp\\AppData\\Local\\Programs\\Python\\Python310\\lib\\site-packages\\pandas\\core\\generic.py:11263\u001b[0m, in \u001b[0;36mNDFrame._min_count_stat_function\u001b[1;34m(self, name, func, axis, skipna, numeric_only, min_count, **kwargs)\u001b[0m\n\u001b[0;32m  11260\u001b[0m \u001b[39mif\u001b[39;00m axis \u001b[39mis\u001b[39;00m \u001b[39mNone\u001b[39;00m:\n\u001b[0;32m  11261\u001b[0m     axis \u001b[39m=\u001b[39m \u001b[39mself\u001b[39m\u001b[39m.\u001b[39m_stat_axis_number\n\u001b[1;32m> 11263\u001b[0m \u001b[39mreturn\u001b[39;00m \u001b[39mself\u001b[39;49m\u001b[39m.\u001b[39;49m_reduce(\n\u001b[0;32m  11264\u001b[0m     func,\n\u001b[0;32m  11265\u001b[0m     name\u001b[39m=\u001b[39;49mname,\n\u001b[0;32m  11266\u001b[0m     axis\u001b[39m=\u001b[39;49maxis,\n\u001b[0;32m  11267\u001b[0m     skipna\u001b[39m=\u001b[39;49mskipna,\n\u001b[0;32m  11268\u001b[0m     numeric_only\u001b[39m=\u001b[39;49mnumeric_only,\n\u001b[0;32m  11269\u001b[0m     min_count\u001b[39m=\u001b[39;49mmin_count,\n\u001b[0;32m  11270\u001b[0m )\n",
      "File \u001b[1;32mc:\\Users\\hp\\AppData\\Local\\Programs\\Python\\Python310\\lib\\site-packages\\pandas\\core\\frame.py:10524\u001b[0m, in \u001b[0;36mDataFrame._reduce\u001b[1;34m(self, op, name, axis, skipna, numeric_only, filter_type, **kwds)\u001b[0m\n\u001b[0;32m  10520\u001b[0m     df \u001b[39m=\u001b[39m df\u001b[39m.\u001b[39mT\n\u001b[0;32m  10522\u001b[0m \u001b[39m# After possibly _get_data and transposing, we are now in the\u001b[39;00m\n\u001b[0;32m  10523\u001b[0m \u001b[39m#  simple case where we can use BlockManager.reduce\u001b[39;00m\n\u001b[1;32m> 10524\u001b[0m res \u001b[39m=\u001b[39m df\u001b[39m.\u001b[39;49m_mgr\u001b[39m.\u001b[39;49mreduce(blk_func)\n\u001b[0;32m  10525\u001b[0m out \u001b[39m=\u001b[39m df\u001b[39m.\u001b[39m_constructor(res)\u001b[39m.\u001b[39miloc[\u001b[39m0\u001b[39m]\n\u001b[0;32m  10526\u001b[0m \u001b[39mif\u001b[39;00m out_dtype \u001b[39mis\u001b[39;00m \u001b[39mnot\u001b[39;00m \u001b[39mNone\u001b[39;00m:\n",
      "File \u001b[1;32mc:\\Users\\hp\\AppData\\Local\\Programs\\Python\\Python310\\lib\\site-packages\\pandas\\core\\internals\\managers.py:1534\u001b[0m, in \u001b[0;36mBlockManager.reduce\u001b[1;34m(self, func)\u001b[0m\n\u001b[0;32m   1532\u001b[0m res_blocks: \u001b[39mlist\u001b[39m[Block] \u001b[39m=\u001b[39m []\n\u001b[0;32m   1533\u001b[0m \u001b[39mfor\u001b[39;00m blk \u001b[39min\u001b[39;00m \u001b[39mself\u001b[39m\u001b[39m.\u001b[39mblocks:\n\u001b[1;32m-> 1534\u001b[0m     nbs \u001b[39m=\u001b[39m blk\u001b[39m.\u001b[39;49mreduce(func)\n\u001b[0;32m   1535\u001b[0m     res_blocks\u001b[39m.\u001b[39mextend(nbs)\n\u001b[0;32m   1537\u001b[0m index \u001b[39m=\u001b[39m Index([\u001b[39mNone\u001b[39;00m])  \u001b[39m# placeholder\u001b[39;00m\n",
      "File \u001b[1;32mc:\\Users\\hp\\AppData\\Local\\Programs\\Python\\Python310\\lib\\site-packages\\pandas\\core\\internals\\blocks.py:339\u001b[0m, in \u001b[0;36mBlock.reduce\u001b[1;34m(self, func)\u001b[0m\n\u001b[0;32m    333\u001b[0m \u001b[39m@final\u001b[39m\n\u001b[0;32m    334\u001b[0m \u001b[39mdef\u001b[39;00m \u001b[39mreduce\u001b[39m(\u001b[39mself\u001b[39m, func) \u001b[39m-\u001b[39m\u001b[39m>\u001b[39m \u001b[39mlist\u001b[39m[Block]:\n\u001b[0;32m    335\u001b[0m     \u001b[39m# We will apply the function and reshape the result into a single-row\u001b[39;00m\n\u001b[0;32m    336\u001b[0m     \u001b[39m#  Block with the same mgr_locs; squeezing will be done at a higher level\u001b[39;00m\n\u001b[0;32m    337\u001b[0m     \u001b[39massert\u001b[39;00m \u001b[39mself\u001b[39m\u001b[39m.\u001b[39mndim \u001b[39m==\u001b[39m \u001b[39m2\u001b[39m\n\u001b[1;32m--> 339\u001b[0m     result \u001b[39m=\u001b[39m func(\u001b[39mself\u001b[39;49m\u001b[39m.\u001b[39;49mvalues)\n\u001b[0;32m    341\u001b[0m     \u001b[39mif\u001b[39;00m \u001b[39mself\u001b[39m\u001b[39m.\u001b[39mvalues\u001b[39m.\u001b[39mndim \u001b[39m==\u001b[39m \u001b[39m1\u001b[39m:\n\u001b[0;32m    342\u001b[0m         \u001b[39m# TODO(EA2D): special case not needed with 2D EAs\u001b[39;00m\n\u001b[0;32m    343\u001b[0m         res_values \u001b[39m=\u001b[39m np\u001b[39m.\u001b[39marray([[result]])\n",
      "File \u001b[1;32mc:\\Users\\hp\\AppData\\Local\\Programs\\Python\\Python310\\lib\\site-packages\\pandas\\core\\frame.py:10487\u001b[0m, in \u001b[0;36mDataFrame._reduce.<locals>.blk_func\u001b[1;34m(values, axis)\u001b[0m\n\u001b[0;32m  10485\u001b[0m     \u001b[39mreturn\u001b[39;00m values\u001b[39m.\u001b[39m_reduce(name, skipna\u001b[39m=\u001b[39mskipna, \u001b[39m*\u001b[39m\u001b[39m*\u001b[39mkwds)\n\u001b[0;32m  10486\u001b[0m \u001b[39melse\u001b[39;00m:\n\u001b[1;32m> 10487\u001b[0m     \u001b[39mreturn\u001b[39;00m op(values, axis\u001b[39m=\u001b[39maxis, skipna\u001b[39m=\u001b[39mskipna, \u001b[39m*\u001b[39m\u001b[39m*\u001b[39mkwds)\n",
      "File \u001b[1;32mc:\\Users\\hp\\AppData\\Local\\Programs\\Python\\Python310\\lib\\site-packages\\pandas\\core\\nanops.py:96\u001b[0m, in \u001b[0;36mdisallow.__call__.<locals>._f\u001b[1;34m(*args, **kwargs)\u001b[0m\n\u001b[0;32m     94\u001b[0m \u001b[39mtry\u001b[39;00m:\n\u001b[0;32m     95\u001b[0m     \u001b[39mwith\u001b[39;00m np\u001b[39m.\u001b[39merrstate(invalid\u001b[39m=\u001b[39m\u001b[39m\"\u001b[39m\u001b[39mignore\u001b[39m\u001b[39m\"\u001b[39m):\n\u001b[1;32m---> 96\u001b[0m         \u001b[39mreturn\u001b[39;00m f(\u001b[39m*\u001b[39margs, \u001b[39m*\u001b[39m\u001b[39m*\u001b[39mkwargs)\n\u001b[0;32m     97\u001b[0m \u001b[39mexcept\u001b[39;00m \u001b[39mValueError\u001b[39;00m \u001b[39mas\u001b[39;00m e:\n\u001b[0;32m     98\u001b[0m     \u001b[39m# we want to transform an object array\u001b[39;00m\n\u001b[0;32m     99\u001b[0m     \u001b[39m# ValueError message to the more typical TypeError\u001b[39;00m\n\u001b[0;32m    100\u001b[0m     \u001b[39m# e.g. this is normally a disallowed function on\u001b[39;00m\n\u001b[0;32m    101\u001b[0m     \u001b[39m# object arrays that contain strings\u001b[39;00m\n\u001b[0;32m    102\u001b[0m     \u001b[39mif\u001b[39;00m is_object_dtype(args[\u001b[39m0\u001b[39m]):\n",
      "File \u001b[1;32mc:\\Users\\hp\\AppData\\Local\\Programs\\Python\\Python310\\lib\\site-packages\\pandas\\core\\nanops.py:421\u001b[0m, in \u001b[0;36m_datetimelike_compat.<locals>.new_func\u001b[1;34m(values, axis, skipna, mask, **kwargs)\u001b[0m\n\u001b[0;32m    418\u001b[0m \u001b[39mif\u001b[39;00m datetimelike \u001b[39mand\u001b[39;00m mask \u001b[39mis\u001b[39;00m \u001b[39mNone\u001b[39;00m:\n\u001b[0;32m    419\u001b[0m     mask \u001b[39m=\u001b[39m isna(values)\n\u001b[1;32m--> 421\u001b[0m result \u001b[39m=\u001b[39m func(values, axis\u001b[39m=\u001b[39maxis, skipna\u001b[39m=\u001b[39mskipna, mask\u001b[39m=\u001b[39mmask, \u001b[39m*\u001b[39m\u001b[39m*\u001b[39mkwargs)\n\u001b[0;32m    423\u001b[0m \u001b[39mif\u001b[39;00m datetimelike:\n\u001b[0;32m    424\u001b[0m     result \u001b[39m=\u001b[39m _wrap_results(result, orig_values\u001b[39m.\u001b[39mdtype, fill_value\u001b[39m=\u001b[39miNaT)\n",
      "File \u001b[1;32mc:\\Users\\hp\\AppData\\Local\\Programs\\Python\\Python310\\lib\\site-packages\\pandas\\core\\nanops.py:494\u001b[0m, in \u001b[0;36mmaybe_operate_rowwise.<locals>.newfunc\u001b[1;34m(values, axis, **kwargs)\u001b[0m\n\u001b[0;32m    491\u001b[0m         results \u001b[39m=\u001b[39m [func(x, \u001b[39m*\u001b[39m\u001b[39m*\u001b[39mkwargs) \u001b[39mfor\u001b[39;00m x \u001b[39min\u001b[39;00m arrs]\n\u001b[0;32m    492\u001b[0m     \u001b[39mreturn\u001b[39;00m np\u001b[39m.\u001b[39marray(results)\n\u001b[1;32m--> 494\u001b[0m \u001b[39mreturn\u001b[39;00m func(values, axis\u001b[39m=\u001b[39maxis, \u001b[39m*\u001b[39m\u001b[39m*\u001b[39mkwargs)\n",
      "File \u001b[1;32mc:\\Users\\hp\\AppData\\Local\\Programs\\Python\\Python310\\lib\\site-packages\\pandas\\core\\nanops.py:652\u001b[0m, in \u001b[0;36mnansum\u001b[1;34m(values, axis, skipna, min_count, mask)\u001b[0m\n\u001b[0;32m    649\u001b[0m \u001b[39melif\u001b[39;00m is_timedelta64_dtype(dtype):\n\u001b[0;32m    650\u001b[0m     dtype_sum \u001b[39m=\u001b[39m np\u001b[39m.\u001b[39mdtype(np\u001b[39m.\u001b[39mfloat64)\n\u001b[1;32m--> 652\u001b[0m the_sum \u001b[39m=\u001b[39m values\u001b[39m.\u001b[39;49msum(axis, dtype\u001b[39m=\u001b[39;49mdtype_sum)\n\u001b[0;32m    653\u001b[0m the_sum \u001b[39m=\u001b[39m _maybe_null_out(the_sum, axis, mask, values\u001b[39m.\u001b[39mshape, min_count\u001b[39m=\u001b[39mmin_count)\n\u001b[0;32m    655\u001b[0m \u001b[39mreturn\u001b[39;00m the_sum\n",
      "File \u001b[1;32mc:\\Users\\hp\\AppData\\Local\\Programs\\Python\\Python310\\lib\\site-packages\\numpy\\core\\_methods.py:48\u001b[0m, in \u001b[0;36m_sum\u001b[1;34m(a, axis, dtype, out, keepdims, initial, where)\u001b[0m\n\u001b[0;32m     46\u001b[0m \u001b[39mdef\u001b[39;00m \u001b[39m_sum\u001b[39m(a, axis\u001b[39m=\u001b[39m\u001b[39mNone\u001b[39;00m, dtype\u001b[39m=\u001b[39m\u001b[39mNone\u001b[39;00m, out\u001b[39m=\u001b[39m\u001b[39mNone\u001b[39;00m, keepdims\u001b[39m=\u001b[39m\u001b[39mFalse\u001b[39;00m,\n\u001b[0;32m     47\u001b[0m          initial\u001b[39m=\u001b[39m_NoValue, where\u001b[39m=\u001b[39m\u001b[39mTrue\u001b[39;00m):\n\u001b[1;32m---> 48\u001b[0m     \u001b[39mreturn\u001b[39;00m umr_sum(a, axis, dtype, out, keepdims, initial, where)\n",
      "\u001b[1;31mTypeError\u001b[0m: can only concatenate str (not \"int\") to str"
     ]
    }
   ],
   "source": [
    "for id, uid in zip(Customer_IDs, User_IDs):\n",
    "    steps_month = 0\n",
    "    valus_credit_hist_age = df_train[df_train['Customer_ID']\n",
    "                                     == id]['Credit_History_Age'].values\n",
    "\n",
    "    # position of null\n",
    "    indxNaN = valus_credit_hist_age.tolist().index(myNANvalue)\n",
    "\n",
    "    # support value\n",
    "    # case 1 front or any position in normal\n",
    "    if indxNaN == 0:\n",
    "        supportIndx = 1\n",
    "        if valus_credit_hist_age[1] == myNANvalue:\n",
    "            for i in valus_credit_hist_age:\n",
    "                if i == myNANvalue:\n",
    "                    supportIndx += 1\n",
    "                    steps_month += 1\n",
    "                else:\n",
    "                    break\n",
    "    else:\n",
    "        supportIndx = indxNaN - 1\n",
    "\n",
    "    # case 2 if next or prev position is nan\n",
    "\n",
    "    # processing new value\n",
    "        # convert to list and int\n",
    "    supportValue = str(valus_credit_hist_age[supportIndx]).split(' ')\n",
    "    #\n",
    "    year = int(supportValue[0])\n",
    "    month = int(supportValue[3])\n",
    "    newMonth = 0\n",
    "    newYear = 0\n",
    "\n",
    "    # case 1 nan in front or any position in normal\n",
    "    # front in normal\n",
    "    if indxNaN == 0 and steps_month == 0:\n",
    "        newMonth = month-1\n",
    "\n",
    "    elif (indxNaN > 0) and (steps_month == 0):\n",
    "        newMonth = month + 1\n",
    "    if steps_month > 0:\n",
    "        if (indxNaN == 0) and ((month-steps_month) >= 0):\n",
    "            newMonth = month - steps_month\n",
    "        elif (indxNaN == 0) and ((month-steps_month) < 0):\n",
    "            newMonth = 12 + (month-steps_month)  # 12 + -3 = 9\n",
    "\n",
    "    # update year\n",
    "    if ((indxNaN == 0) and (steps_month == 0) and (month == 0)) or ((indxNaN == 0) and ((month-steps_month) < 0)):\n",
    "        newYear = year-1\n",
    "    elif (indxNaN > 0) and (steps_month == 0) and (month == 11):\n",
    "        newYear = year + 1\n",
    "        newMonth = 0\n",
    "    elif (indxNaN > 0) and (steps_month == 0) and (month < 11) and (month > 0):\n",
    "        newYear = year\n",
    "\n",
    "        # fill new month and year in list and create new string\n",
    "    realHistAge_list[0] = str(newYear)\n",
    "    realHistAge_list[3] = str(newMonth)\n",
    "\n",
    "    realHistAge_Value = ' '.join(realHistAge_list)\n",
    "    # fill new value\n",
    "\n",
    "    df_train.loc[(df_train['Customer_ID'] == id) & (\n",
    "        (df_train['Credit_History_Age'].isna()) & (df_train['ID'] == uid)), ['Credit_History_Age']] = realHistAge_Value\n",
    "\n",
    "\n",
    "df_train[df_train['Credit_History_Age']==myNANvalue].sum()\n"
   ]
  },
  {
   "cell_type": "code",
   "execution_count": 11,
   "metadata": {},
   "outputs": [
    {
     "data": {
      "text/plain": [
       "1         CUS_0xd40\n",
       "7         CUS_0xd40\n",
       "19       CUS_0x2dbc\n",
       "40       CUS_0x95ee\n",
       "42       CUS_0x95ee\n",
       "            ...    \n",
       "99944    CUS_0x51b3\n",
       "99963    CUS_0x372c\n",
       "99968     CUS_0xf16\n",
       "99975     CUS_0xf16\n",
       "99990    CUS_0x8600\n",
       "Name: Customer_ID, Length: 9030, dtype: object"
      ]
     },
     "execution_count": 11,
     "metadata": {},
     "output_type": "execute_result"
    }
   ],
   "source": [
    "df_train[df_train['Credit_History_Age']==myNANvalue]['Customer_ID']"
   ]
  }
 ],
 "metadata": {
  "kernelspec": {
   "display_name": "Python 3",
   "language": "python",
   "name": "python3"
  },
  "language_info": {
   "codemirror_mode": {
    "name": "ipython",
    "version": 3
   },
   "file_extension": ".py",
   "mimetype": "text/x-python",
   "name": "python",
   "nbconvert_exporter": "python",
   "pygments_lexer": "ipython3",
   "version": "3.10.5"
  },
  "orig_nbformat": 4
 },
 "nbformat": 4,
 "nbformat_minor": 2
}
