{
 "cells": [
  {
   "cell_type": "code",
   "execution_count": 2,
   "metadata": {},
   "outputs": [],
   "source": [
    "import string\n",
    "\n",
    "import pandas  as pd\n",
    "import numpy as np\n",
    "s = '15 Years and 11 Months'"
   ]
  },
  {
   "cell_type": "code",
   "execution_count": 3,
   "metadata": {},
   "outputs": [
    {
     "name": "stderr",
     "output_type": "stream",
     "text": [
      "C:\\Users\\hp\\AppData\\Local\\Temp\\ipykernel_14772\\92132454.py:1: DtypeWarning: Columns (26) have mixed types. Specify dtype option on import or set low_memory=False.\n",
      "  data= pd.read_csv('train.csv')\n"
     ]
    }
   ],
   "source": [
    "data= pd.read_csv('train.csv')"
   ]
  },
  {
   "cell_type": "code",
   "execution_count": 7,
   "metadata": {},
   "outputs": [
    {
     "data": {
      "text/plain": [
       "['15', 'Years', 'and', '11', 'Months']"
      ]
     },
     "execution_count": 7,
     "metadata": {},
     "output_type": "execute_result"
    }
   ],
   "source": [
    "ls=s.split(' ')\n",
    "ls\n"
   ]
  },
  {
   "cell_type": "code",
   "execution_count": 15,
   "metadata": {},
   "outputs": [],
   "source": [
    "year = int(ls[0])"
   ]
  },
  {
   "cell_type": "code",
   "execution_count": 19,
   "metadata": {},
   "outputs": [
    {
     "data": {
      "text/plain": [
       "11"
      ]
     },
     "execution_count": 19,
     "metadata": {},
     "output_type": "execute_result"
    }
   ],
   "source": [
    "month = int(ls[3])\n",
    "month\n"
   ]
  },
  {
   "cell_type": "code",
   "execution_count": 20,
   "metadata": {},
   "outputs": [
    {
     "data": {
      "text/plain": [
       "12"
      ]
     },
     "execution_count": 20,
     "metadata": {},
     "output_type": "execute_result"
    }
   ],
   "source": [
    "month+=1\n",
    "\n",
    "month\n"
   ]
  },
  {
   "cell_type": "code",
   "execution_count": 22,
   "metadata": {},
   "outputs": [],
   "source": [
    "# case in middle and month = 12 \n",
    "# check if wrong or not\n",
    "if month == 12 :\n",
    "    month =0\n",
    "    year+=1\n",
    "else :\n",
    "    month +=1\n",
    "    year = year"
   ]
  },
  {
   "cell_type": "code",
   "execution_count": 24,
   "metadata": {},
   "outputs": [
    {
     "data": {
      "text/plain": [
       "['17', 'Years', 'and', '0', 'Months']"
      ]
     },
     "execution_count": 24,
     "metadata": {},
     "output_type": "execute_result"
    }
   ],
   "source": [
    "newlist = [15 ,'Years' ,'and' ,11 ,'Months']\n",
    "newlist[0]=str(year)\n",
    "newlist[3]=str(month)\n",
    "newlist\n"
   ]
  },
  {
   "cell_type": "code",
   "execution_count": 30,
   "metadata": {},
   "outputs": [],
   "source": [
    "realValue=' '.join(newlist)"
   ]
  },
  {
   "cell_type": "code",
   "execution_count": 31,
   "metadata": {},
   "outputs": [
    {
     "data": {
      "text/plain": [
       "'17 Years and 0 Months'"
      ]
     },
     "execution_count": 31,
     "metadata": {},
     "output_type": "execute_result"
    }
   ],
   "source": [
    "realValue\n"
   ]
  },
  {
   "cell_type": "code",
   "execution_count": null,
   "metadata": {},
   "outputs": [],
   "source": [
    "== ==\n",
    "# if supportValue[0] == np.NaN  :\n",
    "#     np.nan_to_num(supportValue[0],copy=False,nan=0)\n",
    "# if supportValue[3] == np.NaN:\n",
    "#     np.nan_to_num(supportValue[3],copy=False,nan=0)\n"
   ]
  },
  {
   "cell_type": "code",
   "execution_count": null,
   "metadata": {},
   "outputs": [],
   "source": [
    "ids=[]\n",
    "User_ids=[]\n",
    "df_train=[]\n",
    "# --------------------------\n",
    "# start = 0 and 1=nan and 2=nan ... \n",
    "\n",
    "realHistAge_list = [15, 'Years', 'and', 11, 'Months']\n",
    "\n",
    "for id ,uid in zip(ids,User_ids) :\n",
    "    steps_month=0\n",
    "    valus_credit_hist_age = df_train[df_train['Customer_ID']== id]['Credit_History_Age'].values\n",
    "\n",
    "    # position of null \n",
    "    indxNaN = valus_credit_hist_age.tolist().index(np.nan)\n",
    "\n",
    "    # support value \n",
    "    # case 1 front or any position in normal \n",
    "    if indxNaN == 0 :\n",
    "        supportIndx = 1\n",
    "    else :\n",
    "        supportIndx = indxNaN - 1 \n",
    "    \n",
    "    # case 2 if next or prev position is nan \n",
    "    if valus_credit_hist_age[supportIndx] == np.nan:\n",
    "        for i in valus_credit_hist_age :\n",
    "            if i == np.nan:\n",
    "                supportIndx+=1\n",
    "                steps_month+=1\n",
    "            else: \n",
    "                break\n",
    "\n",
    "    # processing new value\n",
    "        # convert to list and int\n",
    "    supportValue = str(valus_credit_hist_age[supportIndx]).split(' ')\n",
    "    year = int(supportValue[0])\n",
    "    month = int(supportValue[3])\n",
    "    newMonth = 0\n",
    "    newYear = 0\n",
    "\n",
    "    # case 1 nan in front or any position in normal\n",
    "        # front in normal\n",
    "    if indxNaN == 0 and steps_month == 0:\n",
    "        newMonth = month-1\n",
    "    \n",
    "    elif (indxNaN > 0)  and (steps_month == 0):\n",
    "        newMonth =month+ 1\n",
    "    if steps_month > 0 :\n",
    "        if (indxNaN == 0) and ((month-steps_month) >= 0 ):\n",
    "            newMonth = month- steps_month\n",
    "        elif (indxNaN == 0) and ((month-steps_month) < 0):\n",
    "            newMonth = 12 + (month-steps_month) # 12 + -3 = 9\n",
    "\n",
    "    # update year \n",
    "    if ((indxNaN == 0) and (steps_month == 0) and (month == 0)) or ((indxNaN == 0) and ((month-steps_month) < 0)):\n",
    "        newYear=year-1\n",
    "    elif (indxNaN > 0) and (steps_month == 0) and (month == 11):\n",
    "        newYear =year + 1\n",
    "        newMonth =0\n",
    "    elif (indxNaN > 0) and (steps_month == 0) and (month < 11) and (month > 0):\n",
    "        newYear =year\n",
    "\n",
    "    # # case 1: \n",
    "    # if indxNaN == 0 :\n",
    "    \n",
    "    #     if steps_month == 0:\n",
    "    #         month -= 1\n",
    "    #         year = year\n",
    "    #     else :\n",
    "    #         month -= steps_month\n",
    "    #         year = year\n",
    "        \n",
    "    #     if month <= 0:\n",
    "    #         month = 11\n",
    "    #         year -= 1\n",
    "\n",
    "    # # case 2: \n",
    "    # else:\n",
    "    #     if month == 11:\n",
    "    #         month = 0\n",
    "    #         year += 1\n",
    "    #     else:\n",
    "    #         month += 1\n",
    "    #         year = year\n",
    "        \n",
    "\n",
    "        # fill new month and year in list and create new string \n",
    "    realHistAge_list[0] = str(year)\n",
    "    realHistAge_list[3] = str(newMonth)\n",
    "\n",
    "    realHistAge_Value = ' '.join(realHistAge_list)\n",
    "    # fill new value\n",
    "\n",
    "    df_train.loc[(df_train['Customer_ID'] == id) & (\n",
    "        (df_train['Credit_History_Age'].isna())) & (df_train['ID'] == uid), ['Credit_History_Age']] =realHistAge_Value"
   ]
  }
 ],
 "metadata": {
  "kernelspec": {
   "display_name": "Python 3",
   "language": "python",
   "name": "python3"
  },
  "language_info": {
   "codemirror_mode": {
    "name": "ipython",
    "version": 3
   },
   "file_extension": ".py",
   "mimetype": "text/x-python",
   "name": "python",
   "nbconvert_exporter": "python",
   "pygments_lexer": "ipython3",
   "version": "3.10.5"
  },
  "orig_nbformat": 4
 },
 "nbformat": 4,
 "nbformat_minor": 2
}
