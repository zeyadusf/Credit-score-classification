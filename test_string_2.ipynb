{
 "cells": [
  {
   "cell_type": "code",
   "execution_count": 90,
   "metadata": {},
   "outputs": [],
   "source": [
    "import pandas as pd\n",
    "import string \n",
    "import numpy as np\n"
   ]
  },
  {
   "cell_type": "code",
   "execution_count": 91,
   "metadata": {},
   "outputs": [
    {
     "name": "stderr",
     "output_type": "stream",
     "text": [
      "C:\\Users\\hp\\AppData\\Local\\Temp\\ipykernel_14920\\2292805398.py:1: DtypeWarning: Columns (26) have mixed types. Specify dtype option on import or set low_memory=False.\n",
      "  df = pd.read_csv(\"train.csv\")\n"
     ]
    }
   ],
   "source": [
    "df = pd.read_csv(\"train.csv\")"
   ]
  },
  {
   "cell_type": "code",
   "execution_count": 92,
   "metadata": {},
   "outputs": [
    {
     "data": {
      "text/plain": [
       "0         22 Years and 1 Months\n",
       "1                           NaN\n",
       "2         22 Years and 3 Months\n",
       "3         22 Years and 4 Months\n",
       "4         22 Years and 5 Months\n",
       "                  ...          \n",
       "99995     31 Years and 6 Months\n",
       "99996     31 Years and 7 Months\n",
       "99997     31 Years and 8 Months\n",
       "99998     31 Years and 9 Months\n",
       "99999    31 Years and 10 Months\n",
       "Name: Credit_History_Age, Length: 100000, dtype: object"
      ]
     },
     "execution_count": 92,
     "metadata": {},
     "output_type": "execute_result"
    }
   ],
   "source": [
    "df[\"Credit_History_Age\"]"
   ]
  },
  {
   "cell_type": "code",
   "execution_count": 93,
   "metadata": {},
   "outputs": [],
   "source": [
    "df_train=df"
   ]
  },
  {
   "cell_type": "code",
   "execution_count": 94,
   "metadata": {},
   "outputs": [],
   "source": [
    "\n",
    "Customer_IDs = df_train[df_train['Credit_History_Age'].isna()]['Customer_ID']\n",
    "User_IDs = df_train[df_train['Credit_History_Age'].isna()]['ID']\n",
    "# realHistAge_list = [0, 'Years', 'and', 0, 'Months']\n"
   ]
  },
  {
   "cell_type": "code",
   "execution_count": 95,
   "metadata": {},
   "outputs": [
    {
     "data": {
      "text/plain": [
       "1         CUS_0xd40\n",
       "7         CUS_0xd40\n",
       "19       CUS_0x2dbc\n",
       "40       CUS_0x95ee\n",
       "42       CUS_0x95ee\n",
       "            ...    \n",
       "99944    CUS_0x51b3\n",
       "99963    CUS_0x372c\n",
       "99968     CUS_0xf16\n",
       "99975     CUS_0xf16\n",
       "99990    CUS_0x8600\n",
       "Name: Customer_ID, Length: 9030, dtype: object"
      ]
     },
     "execution_count": 95,
     "metadata": {},
     "output_type": "execute_result"
    }
   ],
   "source": [
    "Customer_IDs\n"
   ]
  },
  {
   "cell_type": "markdown",
   "metadata": {},
   "source": [
    "<hr>\n",
    "\n",
    "## Cases "
   ]
  },
  {
   "cell_type": "code",
   "execution_count": 96,
   "metadata": {},
   "outputs": [
    {
     "data": {
      "text/plain": [
       "0    22 Years and 1 Months\n",
       "1                      NaN\n",
       "2    22 Years and 3 Months\n",
       "3    22 Years and 4 Months\n",
       "4    22 Years and 5 Months\n",
       "5    22 Years and 6 Months\n",
       "6    22 Years and 7 Months\n",
       "7                      NaN\n",
       "Name: Credit_History_Age, dtype: object"
      ]
     },
     "execution_count": 96,
     "metadata": {},
     "output_type": "execute_result"
    }
   ],
   "source": [
    "df_train[df_train[\"Customer_ID\"]== \"CUS_0xd40\"]['Credit_History_Age']"
   ]
  },
  {
   "cell_type": "code",
   "execution_count": 97,
   "metadata": {},
   "outputs": [
    {
     "data": {
      "text/plain": [
       "99968                      NaN\n",
       "99969    21 Years and 2 Months\n",
       "99970    21 Years and 3 Months\n",
       "99971    21 Years and 4 Months\n",
       "99972    21 Years and 5 Months\n",
       "99973    21 Years and 6 Months\n",
       "99974    21 Years and 7 Months\n",
       "99975                      NaN\n",
       "Name: Credit_History_Age, dtype: object"
      ]
     },
     "execution_count": 97,
     "metadata": {},
     "output_type": "execute_result"
    }
   ],
   "source": [
    "df_train[df_train[\"Customer_ID\"]== \"CUS_0xf16\"]['Credit_History_Age']"
   ]
  },
  {
   "cell_type": "code",
   "execution_count": 98,
   "metadata": {},
   "outputs": [
    {
     "data": {
      "text/plain": [
       "array([nan, '21 Years and 2 Months', '21 Years and 3 Months',\n",
       "       '21 Years and 4 Months', '21 Years and 5 Months',\n",
       "       '21 Years and 6 Months', '21 Years and 7 Months', nan],\n",
       "      dtype=object)"
      ]
     },
     "execution_count": 98,
     "metadata": {},
     "output_type": "execute_result"
    }
   ],
   "source": [
    "df_train[df_train[\"Customer_ID\"]== \"CUS_0xf16\"]['Credit_History_Age'].values"
   ]
  },
  {
   "cell_type": "markdown",
   "metadata": {},
   "source": [
    "<hr>\n",
    "\n",
    "## test str into int and how make calculations"
   ]
  },
  {
   "cell_type": "code",
   "execution_count": 99,
   "metadata": {},
   "outputs": [
    {
     "data": {
      "text/plain": [
       "'21 Years and 2 Months'"
      ]
     },
     "execution_count": 99,
     "metadata": {},
     "output_type": "execute_result"
    }
   ],
   "source": [
    "list_test=df_train[df_train[\"Customer_ID\"]== \"CUS_0xf16\"]['Credit_History_Age'].values\n",
    "list_test[1]"
   ]
  },
  {
   "cell_type": "code",
   "execution_count": 100,
   "metadata": {},
   "outputs": [
    {
     "data": {
      "text/plain": [
       "['21', 'Years', 'and', '2', 'Months']"
      ]
     },
     "execution_count": 100,
     "metadata": {},
     "output_type": "execute_result"
    }
   ],
   "source": [
    "list_test[1].split(\" \")"
   ]
  },
  {
   "cell_type": "code",
   "execution_count": 102,
   "metadata": {},
   "outputs": [
    {
     "ename": "AttributeError",
     "evalue": "'float' object has no attribute 'split'",
     "output_type": "error",
     "traceback": [
      "\u001b[1;31m---------------------------------------------------------------------------\u001b[0m",
      "\u001b[1;31mAttributeError\u001b[0m                            Traceback (most recent call last)",
      "Cell \u001b[1;32mIn[102], line 1\u001b[0m\n\u001b[1;32m----> 1\u001b[0m list_test[\u001b[39m0\u001b[39;49m]\u001b[39m.\u001b[39;49msplit(\u001b[39m\"\u001b[39m\u001b[39m \u001b[39m\u001b[39m\"\u001b[39m)\n",
      "\u001b[1;31mAttributeError\u001b[0m: 'float' object has no attribute 'split'"
     ]
    }
   ],
   "source": [
    "list_test[0].split(\" \")"
   ]
  },
  {
   "cell_type": "code",
   "execution_count": null,
   "metadata": {},
   "outputs": [
    {
     "data": {
      "text/plain": [
       "array(['0 Years and 0 Months', '21 Years and 2 Months',\n",
       "       '21 Years and 3 Months', '21 Years and 4 Months',\n",
       "       '21 Years and 5 Months', '21 Years and 6 Months',\n",
       "       '21 Years and 7 Months', '0 Years and 0 Months'], dtype=object)"
      ]
     },
     "execution_count": 32,
     "metadata": {},
     "output_type": "execute_result"
    }
   ],
   "source": [
    "list_test[0] = '0 Years and 0 Months'\n",
    "list_test[7] = '0 Years and 0 Months'\n",
    "list_test\n"
   ]
  },
  {
   "cell_type": "code",
   "execution_count": null,
   "metadata": {},
   "outputs": [],
   "source": [
    "valuesNAN ='0 Years and 0 Months'"
   ]
  },
  {
   "cell_type": "code",
   "execution_count": null,
   "metadata": {},
   "outputs": [
    {
     "data": {
      "text/plain": [
       "['0', 'Years', 'and', '0', 'Months']"
      ]
     },
     "execution_count": 33,
     "metadata": {},
     "output_type": "execute_result"
    }
   ],
   "source": [
    "list_test[0].split(\" \")"
   ]
  },
  {
   "cell_type": "code",
   "execution_count": null,
   "metadata": {},
   "outputs": [
    {
     "data": {
      "text/plain": [
       "[['0', 'Years', 'and', '0', 'Months'],\n",
       " ['21', 'Years', 'and', '2', 'Months'],\n",
       " ['21', 'Years', 'and', '3', 'Months'],\n",
       " ['21', 'Years', 'and', '4', 'Months'],\n",
       " ['21', 'Years', 'and', '5', 'Months'],\n",
       " ['21', 'Years', 'and', '6', 'Months'],\n",
       " ['21', 'Years', 'and', '7', 'Months'],\n",
       " ['0', 'Years', 'and', '0', 'Months']]"
      ]
     },
     "execution_count": 35,
     "metadata": {},
     "output_type": "execute_result"
    }
   ],
   "source": [
    "list_split=[]\n",
    "for i in list_test:\n",
    "    list_split.append(i.split(\" \"))\n",
    "list_split\n"
   ]
  },
  {
   "cell_type": "code",
   "execution_count": null,
   "metadata": {},
   "outputs": [
    {
     "data": {
      "text/plain": [
       "'0'"
      ]
     },
     "execution_count": 41,
     "metadata": {},
     "output_type": "execute_result"
    }
   ],
   "source": [
    "list_split[0][0]"
   ]
  },
  {
   "cell_type": "code",
   "execution_count": null,
   "metadata": {},
   "outputs": [],
   "source": [
    "list_split[0][3]\n",
    "list_split = []\n"
   ]
  },
  {
   "cell_type": "code",
   "execution_count": null,
   "metadata": {},
   "outputs": [
    {
     "data": {
      "text/plain": [
       "[]"
      ]
     },
     "execution_count": 50,
     "metadata": {},
     "output_type": "execute_result"
    }
   ],
   "source": [
    "list_split=[]\n",
    "list_split\n"
   ]
  },
  {
   "cell_type": "markdown",
   "metadata": {},
   "source": [
    "<hr> \n",
    "\n",
    "# work space"
   ]
  },
  {
   "cell_type": "code",
   "execution_count": 103,
   "metadata": {},
   "outputs": [],
   "source": [
    "#  convert nan to valueNaN\n",
    "\n",
    "df_train['Credit_History_Age'].fillna(valuesNAN,inplace=True)\n"
   ]
  },
  {
   "cell_type": "code",
   "execution_count": 104,
   "metadata": {},
   "outputs": [],
   "source": [
    "\n",
    "valuesNAN ='0 Years and 0 Months'\n",
    "df_train['Credit_History_Age'].fillna(valuesNAN, inplace=True)\n",
    "Customer_IDs = df_train[df_train['Credit_History_Age']== valuesNAN]['Customer_ID']\n",
    "User_IDs = df_train[df_train['Credit_History_Age']==valuesNAN]['ID']"
   ]
  },
  {
   "cell_type": "code",
   "execution_count": 105,
   "metadata": {},
   "outputs": [
    {
     "data": {
      "text/plain": [
       "['22 Years and 1 Months',\n",
       " '0 Years and 0 Months',\n",
       " '22 Years and 3 Months',\n",
       " '22 Years and 4 Months',\n",
       " '22 Years and 5 Months',\n",
       " '22 Years and 6 Months',\n",
       " '22 Years and 7 Months',\n",
       " '0 Years and 0 Months']"
      ]
     },
     "execution_count": 105,
     "metadata": {},
     "output_type": "execute_result"
    }
   ],
   "source": [
    "# test \n",
    "myValues = df_train[df_train[\"Customer_ID\"]=='CUS_0xd40']['Credit_History_Age'].values.tolist()\n",
    "myValues\n"
   ]
  },
  {
   "cell_type": "code",
   "execution_count": 106,
   "metadata": {},
   "outputs": [
    {
     "data": {
      "text/plain": [
       "1"
      ]
     },
     "execution_count": 106,
     "metadata": {},
     "output_type": "execute_result"
    }
   ],
   "source": [
    "myValues.index(valuesNAN)"
   ]
  },
  {
   "cell_type": "code",
   "execution_count": null,
   "metadata": {},
   "outputs": [],
   "source": [
    "\n",
    "valuesNAN ='0 Years and 0 Months'\n",
    "df_train['Credit_History_Age'].fillna(valuesNAN, inplace=True)\n",
    "Customer_IDs = df_train[df_train['Credit_History_Age']== valuesNAN]['Customer_ID']\n",
    "User_IDs = df_train[df_train['Credit_History_Age']==valuesNAN]['ID']"
   ]
  },
  {
   "cell_type": "code",
   "execution_count": 118,
   "metadata": {},
   "outputs": [
    {
     "name": "stdout",
     "output_type": "stream",
     "text": [
      "[['22', 'Years', 'and', '1', 'Months'], ['0', 'Years', 'and', '0', 'Months'], ['22', 'Years', 'and', '3', 'Months'], ['22', 'Years', 'and', '4', 'Months'], ['22', 'Years', 'and', '5', 'Months'], ['22', 'Years', 'and', '6', 'Months'], ['22', 'Years', 'and', '7', 'Months'], ['0', 'Years', 'and', '0', 'Months']]\n",
      "22 2\n",
      "22 1\n"
     ]
    }
   ],
   "source": [
    "# الاصل\n",
    "# for cust_id in [1] :\n",
    "for cust_id , user_id in zip(Customer_IDs,User_IDs):\n",
    "# init\n",
    "    temp_hist_value = [0, 'Years', 'and', 0, 'Months']\n",
    "    list_split = []\n",
    "    new_month=0\n",
    "    new_year=0\n",
    "    myValues=[]\n",
    "    supporte_year=0\n",
    "    supporte_month=0\n",
    "    steps = 0\n",
    "\n",
    "# values of history of this customer only\n",
    "    # myValues = df_train[df_train[\"Customer_ID\"] ==cust_id]['Credit_History_Age'].values.tolist()\n",
    "    myValues = df_train[df_train[\"Customer_ID\"] ==\n",
    "                    'CUS_0xd40']['Credit_History_Age'].values.tolist()\n",
    "    \n",
    "# git index of nan (valuesNAN)\n",
    "    indxNAN = myValues.index(valuesNAN)\n",
    "# split  string into list\n",
    "    for i in myValues:\n",
    "        list_split.append(i.split(\" \"))\n",
    "    print(list_split)\n",
    "\n",
    "# new year and month\n",
    "\n",
    "# case one\n",
    "    if  indxNAN != 0 :\n",
    "        supporte_year=int(list_split[indxNAN-1][0])\n",
    "        supporte_month=int(list_split[indxNAN-1][3])\n",
    "\n",
    "        if supporte_month == 11 :\n",
    "            new_month =0\n",
    "            new_year =supporte_year+1\n",
    "        else:\n",
    "            new_month = supporte_month+1\n",
    "            new_year = supporte_year\n",
    "\n",
    "# case two\n",
    "    #if missing in index 0  \n",
    "    else :\n",
    "        # new year and month\n",
    "        supporte_year = int(list_split[indxNAN+1][0])\n",
    "        supporte_month = int(list_split[indxNAN+1][3])\n",
    "    \n",
    "    # case  two [1] --> if missing in index 0 and 1 and ... \n",
    "        if supporte_month==0 and supporte_year==0 :\n",
    "            for step in myValues:\n",
    "                if step == valuesNAN:\n",
    "                    steps=steps+1\n",
    "                else : break\n",
    "\n",
    "            supporte_month = int(list_split[indxNAN+steps][3]) - steps\n",
    "\n",
    "            if supporte_month <= 0:\n",
    "                new_month = supporte_month - steps +12\n",
    "                new_year = int(list_split[indxNAN+steps][0])-1\n",
    "            else :\n",
    "                new_month = supporte_month - steps \n",
    "                new_year = int(list_split[indxNAN+steps][0])\n",
    "\n",
    "        else:\n",
    "            if supporte_month == 0:\n",
    "                new_month = 11\n",
    "                new_year = supporte_year - 1\n",
    "            else:\n",
    "                new_month = supporte_month-1\n",
    "                new_year = supporte_year\n",
    "    # new value \n",
    "    temp_hist_value[0]=str(new_year)\n",
    "    temp_hist_value[3]=str(new_month)\n",
    "\n",
    "# replace new valu\n",
    "\n",
    "    df_train.loc[(df_train['Customer_ID'] == cust_id) & (\n",
    "        (df_train['Credit_History_Age']== valuesNAN) & (df_train['ID'] == user_id))\n",
    "        , ['Credit_History_Age']] = ' '.join(temp_hist_value)\n",
    "\n",
    "\n",
    "    print(new_year, new_month)\n",
    "    print(supporte_year, supporte_month)"
   ]
  },
  {
   "cell_type": "code",
   "execution_count": null,
   "metadata": {},
   "outputs": [],
   "source": [
    "for cust_id in Customer_IDs:\n",
    "    # values of history of this customer only\n",
    "    myValues = []\n",
    "    myValues = df_train[df_train[\"Customer_ID\"] ==\n",
    "                        cust_id]['Credit_History_Age'].values.tolist()\n",
    "\n",
    "# git index of nan (valuesNAN)\n",
    "    indxNAN = myValues.index(valuesNAN)\n",
    "    if indxNAN != 0:\n",
    "        # split  string into list\n",
    "        list_split = [i.split(\" \") for i in myValues[indxNAN-1]]\n",
    "        # new year and month\n"
   ]
  },
  {
   "cell_type": "code",
   "execution_count": null,
   "metadata": {},
   "outputs": [
    {
     "name": "stdout",
     "output_type": "stream",
     "text": [
      "0 0\n",
      "<class 'int'> 0\n",
      "21 2\n",
      "<class 'int'> 2\n",
      "21 3\n",
      "<class 'int'> 3\n",
      "21 4\n",
      "<class 'int'> 4\n",
      "21 5\n",
      "<class 'int'> 5\n",
      "21 6\n",
      "<class 'int'> 6\n",
      "21 7\n",
      "<class 'int'> 7\n",
      "0 0\n",
      "<class 'int'> 0\n"
     ]
    }
   ],
   "source": [
    "# split string into list \n",
    "list_split = [i.split(\" \") for i in list_test]\n",
    "\n",
    "for i in list_split :\n",
    "\n",
    "# get old year and month\n",
    "    old_year=i[0]\n",
    "    old_month=i[3]\n",
    "# convert year and month to numeric\n",
    "    old_year=int(old_year)\n",
    "    old_month=int(old_month)\n",
    "# check if month \n",
    "\n",
    "    print(old_year,old_month)\n",
    "    print(type(old_year),old_month)"
   ]
  }
 ],
 "metadata": {
  "kernelspec": {
   "display_name": "Python 3",
   "language": "python",
   "name": "python3"
  },
  "language_info": {
   "codemirror_mode": {
    "name": "ipython",
    "version": 3
   },
   "file_extension": ".py",
   "mimetype": "text/x-python",
   "name": "python",
   "nbconvert_exporter": "python",
   "pygments_lexer": "ipython3",
   "version": "3.10.5"
  },
  "orig_nbformat": 4
 },
 "nbformat": 4,
 "nbformat_minor": 2
}
